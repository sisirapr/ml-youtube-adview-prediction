{
  "nbformat": 4,
  "nbformat_minor": 0,
  "metadata": {
    "colab": {
      "name": "ProjectInterbshipstudio.ipynb",
      "provenance": [],
      "collapsed_sections": []
    },
    "kernelspec": {
      "name": "python3",
      "display_name": "Python 3"
    },
    "language_info": {
      "name": "python"
    }
  },
  "cells": [
    {
      "cell_type": "markdown",
      "metadata": {
        "id": "f0vjhB14N3Of"
      },
      "source": [
        "**Objective**\n",
        "To build a machine learning regression to predict youtube adview count based on other youtube metrics.\n",
        "\n",
        "**Steps and Tasks**\n",
        "1. Import the datasets and libraries, check shape and datatype.\n",
        "2. Visualise the dataset using plotting using heatmaps and plots. You\n",
        "can study data distributions for each attribute as well.\n",
        "3. Clean the dataset by removing missing values and other things.\n",
        "4. Transform attributes into numerical values and other\n",
        "necessary transformations\n",
        "5. Normalise your data and split the data into training, validation and test\n",
        "set in the appropriate ratio.\n",
        "6. Use linear regression, Support Vector Regressor for training and get\n",
        "errors.\n",
        "7. Use Decision Tree Regressor and Random Forest Regressors.\n",
        "8. Build an artificial neural network and train it with different layers\n",
        "and hyperparameters. Experiment a little. Use keras.\n",
        "9. Pick the best model based on error as well as\n",
        "generalisation.\n",
        "10. Save your model and predict on the test set."
      ]
    },
    {
      "cell_type": "code",
      "metadata": {
        "id": "mo8KAEhtGCCr",
        "colab": {
          "base_uri": "https://localhost:8080/",
          "height": 305
        },
        "outputId": "a38439d1-9094-4db4-e7bc-d83a214d90b8"
      },
      "source": [
        "#Importing libraries\n",
        "import numpy as np\n",
        "import pandas as pd\n",
        "import matplotlib.pyplot as plt\n",
        "import matplotlib.cm as cm\n",
        "\n",
        "# Importing dataset\n",
        "trainData=pd.read_csv('train.csv')\n",
        "trainData.head()"
      ],
      "execution_count": 45,
      "outputs": [
        {
          "output_type": "execute_result",
          "data": {
            "text/html": [
              "<div>\n",
              "<style scoped>\n",
              "    .dataframe tbody tr th:only-of-type {\n",
              "        vertical-align: middle;\n",
              "    }\n",
              "\n",
              "    .dataframe tbody tr th {\n",
              "        vertical-align: top;\n",
              "    }\n",
              "\n",
              "    .dataframe thead th {\n",
              "        text-align: right;\n",
              "    }\n",
              "</style>\n",
              "<table border=\"1\" class=\"dataframe\">\n",
              "  <thead>\n",
              "    <tr style=\"text-align: right;\">\n",
              "      <th></th>\n",
              "      <th>vidid</th>\n",
              "      <th>adview</th>\n",
              "      <th>views</th>\n",
              "      <th>likes</th>\n",
              "      <th>dislikes</th>\n",
              "      <th>comment</th>\n",
              "      <th>published</th>\n",
              "      <th>duration</th>\n",
              "      <th>category</th>\n",
              "    </tr>\n",
              "  </thead>\n",
              "  <tbody>\n",
              "    <tr>\n",
              "      <th>0</th>\n",
              "      <td>VID_18655</td>\n",
              "      <td>40</td>\n",
              "      <td>1031602</td>\n",
              "      <td>8523</td>\n",
              "      <td>363</td>\n",
              "      <td>1095</td>\n",
              "      <td>2016-09-14</td>\n",
              "      <td>PT7M37S</td>\n",
              "      <td>F</td>\n",
              "    </tr>\n",
              "    <tr>\n",
              "      <th>1</th>\n",
              "      <td>VID_14135</td>\n",
              "      <td>2</td>\n",
              "      <td>1707</td>\n",
              "      <td>56</td>\n",
              "      <td>2</td>\n",
              "      <td>6</td>\n",
              "      <td>2016-10-01</td>\n",
              "      <td>PT9M30S</td>\n",
              "      <td>D</td>\n",
              "    </tr>\n",
              "    <tr>\n",
              "      <th>2</th>\n",
              "      <td>VID_2187</td>\n",
              "      <td>1</td>\n",
              "      <td>2023</td>\n",
              "      <td>25</td>\n",
              "      <td>0</td>\n",
              "      <td>2</td>\n",
              "      <td>2016-07-02</td>\n",
              "      <td>PT2M16S</td>\n",
              "      <td>C</td>\n",
              "    </tr>\n",
              "    <tr>\n",
              "      <th>3</th>\n",
              "      <td>VID_23096</td>\n",
              "      <td>6</td>\n",
              "      <td>620860</td>\n",
              "      <td>777</td>\n",
              "      <td>161</td>\n",
              "      <td>153</td>\n",
              "      <td>2016-07-27</td>\n",
              "      <td>PT4M22S</td>\n",
              "      <td>H</td>\n",
              "    </tr>\n",
              "    <tr>\n",
              "      <th>4</th>\n",
              "      <td>VID_10175</td>\n",
              "      <td>1</td>\n",
              "      <td>666</td>\n",
              "      <td>1</td>\n",
              "      <td>0</td>\n",
              "      <td>0</td>\n",
              "      <td>2016-06-29</td>\n",
              "      <td>PT31S</td>\n",
              "      <td>D</td>\n",
              "    </tr>\n",
              "  </tbody>\n",
              "</table>\n",
              "</div>"
            ],
            "text/plain": [
              "       vidid  adview    views likes  ... comment   published duration category\n",
              "0  VID_18655      40  1031602  8523  ...    1095  2016-09-14  PT7M37S        F\n",
              "1  VID_14135       2     1707    56  ...       6  2016-10-01  PT9M30S        D\n",
              "2   VID_2187       1     2023    25  ...       2  2016-07-02  PT2M16S        C\n",
              "3  VID_23096       6   620860   777  ...     153  2016-07-27  PT4M22S        H\n",
              "4  VID_10175       1      666     1  ...       0  2016-06-29    PT31S        D\n",
              "\n",
              "[5 rows x 9 columns]"
            ]
          },
          "metadata": {
            "tags": []
          },
          "execution_count": 45
        }
      ]
    },
    {
      "cell_type": "code",
      "metadata": {
        "colab": {
          "base_uri": "https://localhost:8080/"
        },
        "id": "ocFszTj-aVIP",
        "outputId": "3cc5642d-d405-4b2a-f816-436aa6f76622"
      },
      "source": [
        "trainData.shape"
      ],
      "execution_count": 46,
      "outputs": [
        {
          "output_type": "execute_result",
          "data": {
            "text/plain": [
              "(14999, 9)"
            ]
          },
          "metadata": {
            "tags": []
          },
          "execution_count": 46
        }
      ]
    },
    {
      "cell_type": "code",
      "metadata": {
        "colab": {
          "base_uri": "https://localhost:8080/",
          "height": 305
        },
        "id": "PIWOLx69pnhe",
        "outputId": "df4a30fe-6d27-4c1e-ea23-889887cc5aeb"
      },
      "source": [
        "# Assigning each category a number for Category feaure\n",
        "category={'A':1,'B':2,'C':3,'D':4,'E':5,'F':6,'G':7,'H':8}\n",
        "trainData[\"category\"]=trainData[\"category\"].map(category)\n",
        "trainData.head()"
      ],
      "execution_count": 47,
      "outputs": [
        {
          "output_type": "execute_result",
          "data": {
            "text/html": [
              "<div>\n",
              "<style scoped>\n",
              "    .dataframe tbody tr th:only-of-type {\n",
              "        vertical-align: middle;\n",
              "    }\n",
              "\n",
              "    .dataframe tbody tr th {\n",
              "        vertical-align: top;\n",
              "    }\n",
              "\n",
              "    .dataframe thead th {\n",
              "        text-align: right;\n",
              "    }\n",
              "</style>\n",
              "<table border=\"1\" class=\"dataframe\">\n",
              "  <thead>\n",
              "    <tr style=\"text-align: right;\">\n",
              "      <th></th>\n",
              "      <th>vidid</th>\n",
              "      <th>adview</th>\n",
              "      <th>views</th>\n",
              "      <th>likes</th>\n",
              "      <th>dislikes</th>\n",
              "      <th>comment</th>\n",
              "      <th>published</th>\n",
              "      <th>duration</th>\n",
              "      <th>category</th>\n",
              "    </tr>\n",
              "  </thead>\n",
              "  <tbody>\n",
              "    <tr>\n",
              "      <th>0</th>\n",
              "      <td>VID_18655</td>\n",
              "      <td>40</td>\n",
              "      <td>1031602</td>\n",
              "      <td>8523</td>\n",
              "      <td>363</td>\n",
              "      <td>1095</td>\n",
              "      <td>2016-09-14</td>\n",
              "      <td>PT7M37S</td>\n",
              "      <td>6</td>\n",
              "    </tr>\n",
              "    <tr>\n",
              "      <th>1</th>\n",
              "      <td>VID_14135</td>\n",
              "      <td>2</td>\n",
              "      <td>1707</td>\n",
              "      <td>56</td>\n",
              "      <td>2</td>\n",
              "      <td>6</td>\n",
              "      <td>2016-10-01</td>\n",
              "      <td>PT9M30S</td>\n",
              "      <td>4</td>\n",
              "    </tr>\n",
              "    <tr>\n",
              "      <th>2</th>\n",
              "      <td>VID_2187</td>\n",
              "      <td>1</td>\n",
              "      <td>2023</td>\n",
              "      <td>25</td>\n",
              "      <td>0</td>\n",
              "      <td>2</td>\n",
              "      <td>2016-07-02</td>\n",
              "      <td>PT2M16S</td>\n",
              "      <td>3</td>\n",
              "    </tr>\n",
              "    <tr>\n",
              "      <th>3</th>\n",
              "      <td>VID_23096</td>\n",
              "      <td>6</td>\n",
              "      <td>620860</td>\n",
              "      <td>777</td>\n",
              "      <td>161</td>\n",
              "      <td>153</td>\n",
              "      <td>2016-07-27</td>\n",
              "      <td>PT4M22S</td>\n",
              "      <td>8</td>\n",
              "    </tr>\n",
              "    <tr>\n",
              "      <th>4</th>\n",
              "      <td>VID_10175</td>\n",
              "      <td>1</td>\n",
              "      <td>666</td>\n",
              "      <td>1</td>\n",
              "      <td>0</td>\n",
              "      <td>0</td>\n",
              "      <td>2016-06-29</td>\n",
              "      <td>PT31S</td>\n",
              "      <td>4</td>\n",
              "    </tr>\n",
              "  </tbody>\n",
              "</table>\n",
              "</div>"
            ],
            "text/plain": [
              "       vidid  adview    views likes  ... comment   published duration category\n",
              "0  VID_18655      40  1031602  8523  ...    1095  2016-09-14  PT7M37S        6\n",
              "1  VID_14135       2     1707    56  ...       6  2016-10-01  PT9M30S        4\n",
              "2   VID_2187       1     2023    25  ...       2  2016-07-02  PT2M16S        3\n",
              "3  VID_23096       6   620860   777  ...     153  2016-07-27  PT4M22S        8\n",
              "4  VID_10175       1      666     1  ...       0  2016-06-29    PT31S        4\n",
              "\n",
              "[5 rows x 9 columns]"
            ]
          },
          "metadata": {
            "tags": []
          },
          "execution_count": 47
        }
      ]
    },
    {
      "cell_type": "code",
      "metadata": {
        "id": "MifEpRHTrkqn"
      },
      "source": [
        "# Removing \"F\" present in data\n",
        "trainData=trainData[trainData.views!='F']\n",
        "trainData=trainData[trainData.likes!='F']\n",
        "trainData=trainData[trainData.dislikes!='F']\n",
        "trainData=trainData[trainData.comment!='F']"
      ],
      "execution_count": 48,
      "outputs": []
    },
    {
      "cell_type": "code",
      "metadata": {
        "colab": {
          "base_uri": "https://localhost:8080/"
        },
        "id": "NKsAWyscuj6c",
        "outputId": "b0d5bd29-7422-4982-fdbb-6de979554fda"
      },
      "source": [
        "trainData.dtypes"
      ],
      "execution_count": 49,
      "outputs": [
        {
          "output_type": "execute_result",
          "data": {
            "text/plain": [
              "vidid        object\n",
              "adview        int64\n",
              "views        object\n",
              "likes        object\n",
              "dislikes     object\n",
              "comment      object\n",
              "published    object\n",
              "duration     object\n",
              "category      int64\n",
              "dtype: object"
            ]
          },
          "metadata": {
            "tags": []
          },
          "execution_count": 49
        }
      ]
    },
    {
      "cell_type": "code",
      "metadata": {
        "id": "Mxr6C20hsc2f"
      },
      "source": [
        "# Convert values to integer\n",
        "trainData[\"views\"]= pd.to_numeric(trainData[\"views\"])\n",
        "trainData[\"likes\"]= pd.to_numeric(trainData[\"likes\"])\n",
        "trainData[\"dislikes\"]= pd.to_numeric(trainData[\"dislikes\"])\n",
        "trainData[\"comment\"]= pd.to_numeric(trainData[\"comment\"])\n",
        "trainData[\"adview\"]= pd.to_numeric(trainData[\"adview\"])\n",
        "\n",
        "column_vidid=trainData[\"vidid\"]"
      ],
      "execution_count": 50,
      "outputs": []
    },
    {
      "cell_type": "code",
      "metadata": {
        "colab": {
          "base_uri": "https://localhost:8080/"
        },
        "id": "DBJErik0Z_KL",
        "outputId": "af783933-9395-4dd8-f984-335d848c6fb9"
      },
      "source": [
        "trainData.dtypes"
      ],
      "execution_count": 51,
      "outputs": [
        {
          "output_type": "execute_result",
          "data": {
            "text/plain": [
              "vidid        object\n",
              "adview        int64\n",
              "views         int64\n",
              "likes         int64\n",
              "dislikes      int64\n",
              "comment       int64\n",
              "published    object\n",
              "duration     object\n",
              "category      int64\n",
              "dtype: object"
            ]
          },
          "metadata": {
            "tags": []
          },
          "execution_count": 51
        }
      ]
    },
    {
      "cell_type": "code",
      "metadata": {
        "id": "TtvFIrk6ZWuR",
        "colab": {
          "base_uri": "https://localhost:8080/",
          "height": 202
        },
        "outputId": "3f868ced-7ce5-4464-91dd-66bac9542eeb"
      },
      "source": [
        "# Encoding features like Category, Duration, Vidid\n",
        "from sklearn.preprocessing import LabelEncoder\n",
        "trainData['duration']=LabelEncoder().fit_transform(trainData['duration'])\n",
        "trainData['vidid']=LabelEncoder().fit_transform(trainData['vidid'])\n",
        "trainData['published']=LabelEncoder().fit_transform(trainData['published'])\n",
        "\n",
        "trainData.head()"
      ],
      "execution_count": 52,
      "outputs": [
        {
          "output_type": "execute_result",
          "data": {
            "text/html": [
              "<div>\n",
              "<style scoped>\n",
              "    .dataframe tbody tr th:only-of-type {\n",
              "        vertical-align: middle;\n",
              "    }\n",
              "\n",
              "    .dataframe tbody tr th {\n",
              "        vertical-align: top;\n",
              "    }\n",
              "\n",
              "    .dataframe thead th {\n",
              "        text-align: right;\n",
              "    }\n",
              "</style>\n",
              "<table border=\"1\" class=\"dataframe\">\n",
              "  <thead>\n",
              "    <tr style=\"text-align: right;\">\n",
              "      <th></th>\n",
              "      <th>vidid</th>\n",
              "      <th>adview</th>\n",
              "      <th>views</th>\n",
              "      <th>likes</th>\n",
              "      <th>dislikes</th>\n",
              "      <th>comment</th>\n",
              "      <th>published</th>\n",
              "      <th>duration</th>\n",
              "      <th>category</th>\n",
              "    </tr>\n",
              "  </thead>\n",
              "  <tbody>\n",
              "    <tr>\n",
              "      <th>0</th>\n",
              "      <td>5912</td>\n",
              "      <td>40</td>\n",
              "      <td>1031602</td>\n",
              "      <td>8523</td>\n",
              "      <td>363</td>\n",
              "      <td>1095</td>\n",
              "      <td>2168</td>\n",
              "      <td>2925</td>\n",
              "      <td>6</td>\n",
              "    </tr>\n",
              "    <tr>\n",
              "      <th>1</th>\n",
              "      <td>2741</td>\n",
              "      <td>2</td>\n",
              "      <td>1707</td>\n",
              "      <td>56</td>\n",
              "      <td>2</td>\n",
              "      <td>6</td>\n",
              "      <td>2185</td>\n",
              "      <td>3040</td>\n",
              "      <td>4</td>\n",
              "    </tr>\n",
              "    <tr>\n",
              "      <th>2</th>\n",
              "      <td>8138</td>\n",
              "      <td>1</td>\n",
              "      <td>2023</td>\n",
              "      <td>25</td>\n",
              "      <td>0</td>\n",
              "      <td>2</td>\n",
              "      <td>2094</td>\n",
              "      <td>1863</td>\n",
              "      <td>3</td>\n",
              "    </tr>\n",
              "    <tr>\n",
              "      <th>3</th>\n",
              "      <td>9005</td>\n",
              "      <td>6</td>\n",
              "      <td>620860</td>\n",
              "      <td>777</td>\n",
              "      <td>161</td>\n",
              "      <td>153</td>\n",
              "      <td>2119</td>\n",
              "      <td>2546</td>\n",
              "      <td>8</td>\n",
              "    </tr>\n",
              "    <tr>\n",
              "      <th>4</th>\n",
              "      <td>122</td>\n",
              "      <td>1</td>\n",
              "      <td>666</td>\n",
              "      <td>1</td>\n",
              "      <td>0</td>\n",
              "      <td>0</td>\n",
              "      <td>2091</td>\n",
              "      <td>1963</td>\n",
              "      <td>4</td>\n",
              "    </tr>\n",
              "  </tbody>\n",
              "</table>\n",
              "</div>"
            ],
            "text/plain": [
              "   vidid  adview    views  likes  ...  comment  published  duration  category\n",
              "0   5912      40  1031602   8523  ...     1095       2168      2925         6\n",
              "1   2741       2     1707     56  ...        6       2185      3040         4\n",
              "2   8138       1     2023     25  ...        2       2094      1863         3\n",
              "3   9005       6   620860    777  ...      153       2119      2546         8\n",
              "4    122       1      666      1  ...        0       2091      1963         4\n",
              "\n",
              "[5 rows x 9 columns]"
            ]
          },
          "metadata": {
            "tags": []
          },
          "execution_count": 52
        }
      ]
    },
    {
      "cell_type": "code",
      "metadata": {
        "colab": {
          "base_uri": "https://localhost:8080/"
        },
        "id": "bWiSIRDlwgu-",
        "outputId": "55c8b505-1e41-42ec-f08b-9758836b731c"
      },
      "source": [
        "# Convert Time in sec for duration\n",
        "import datetime\n",
        "import time\n",
        "\n",
        "def checki(x):\n",
        "  y=x[2:]\n",
        "  h='00'\n",
        "  m='00'\n",
        "  s='00'\n",
        "  mm=''\n",
        "  P = ['H','M','S']\n",
        "  for i in y:\n",
        "    if i not in P:\n",
        "      mm+=i\n",
        "    else:\n",
        "      if i==\"H\":\n",
        "        h=mm\n",
        "      elif i==\"M\":\n",
        "        m=mm\n",
        "      else:\n",
        "        s=mm\n",
        "      mm=''\n",
        "\n",
        "  bp = h+':'+m+':'+s\n",
        "  return bp\n",
        "\n",
        "train=pd.read_csv(\"train.csv\")\n",
        "mp=train[\"duration\"]\n",
        "time = mp.apply(checki)\n",
        "time.head(20)"
      ],
      "execution_count": 53,
      "outputs": [
        {
          "output_type": "execute_result",
          "data": {
            "text/plain": [
              "0      00:7:37\n",
              "1      00:9:30\n",
              "2      00:2:16\n",
              "3      00:4:22\n",
              "4     00:00:31\n",
              "5     00:00:15\n",
              "6      00:3:20\n",
              "7     00:00:58\n",
              "8     00:27:50\n",
              "9     00:11:19\n",
              "10    00:12:25\n",
              "11     00:3:48\n",
              "12     00:4:14\n",
              "13     2:23:28\n",
              "14     00:2:50\n",
              "15    00:00:37\n",
              "16    00:00:26\n",
              "17     00:5:12\n",
              "18    00:00:22\n",
              "19     00:3:16\n",
              "Name: duration, dtype: object"
            ]
          },
          "metadata": {
            "tags": []
          },
          "execution_count": 53
        }
      ]
    },
    {
      "cell_type": "code",
      "metadata": {
        "colab": {
          "base_uri": "https://localhost:8080/",
          "height": 202
        },
        "id": "L0cU6fUK-_3s",
        "outputId": "eceeaea5-5685-4d85-c2c0-e9683dec7cc3"
      },
      "source": [
        "def func_sec(time_string):\n",
        "  h, m, s=time_string.split(':')\n",
        "  return int(h)*3600 +int(m)*60 +int(s)\n",
        "\n",
        "time1=time.apply(func_sec)\n",
        "\n",
        "trainData[\"duration\"]=time1\n",
        "trainData.head()"
      ],
      "execution_count": 54,
      "outputs": [
        {
          "output_type": "execute_result",
          "data": {
            "text/html": [
              "<div>\n",
              "<style scoped>\n",
              "    .dataframe tbody tr th:only-of-type {\n",
              "        vertical-align: middle;\n",
              "    }\n",
              "\n",
              "    .dataframe tbody tr th {\n",
              "        vertical-align: top;\n",
              "    }\n",
              "\n",
              "    .dataframe thead th {\n",
              "        text-align: right;\n",
              "    }\n",
              "</style>\n",
              "<table border=\"1\" class=\"dataframe\">\n",
              "  <thead>\n",
              "    <tr style=\"text-align: right;\">\n",
              "      <th></th>\n",
              "      <th>vidid</th>\n",
              "      <th>adview</th>\n",
              "      <th>views</th>\n",
              "      <th>likes</th>\n",
              "      <th>dislikes</th>\n",
              "      <th>comment</th>\n",
              "      <th>published</th>\n",
              "      <th>duration</th>\n",
              "      <th>category</th>\n",
              "    </tr>\n",
              "  </thead>\n",
              "  <tbody>\n",
              "    <tr>\n",
              "      <th>0</th>\n",
              "      <td>5912</td>\n",
              "      <td>40</td>\n",
              "      <td>1031602</td>\n",
              "      <td>8523</td>\n",
              "      <td>363</td>\n",
              "      <td>1095</td>\n",
              "      <td>2168</td>\n",
              "      <td>457</td>\n",
              "      <td>6</td>\n",
              "    </tr>\n",
              "    <tr>\n",
              "      <th>1</th>\n",
              "      <td>2741</td>\n",
              "      <td>2</td>\n",
              "      <td>1707</td>\n",
              "      <td>56</td>\n",
              "      <td>2</td>\n",
              "      <td>6</td>\n",
              "      <td>2185</td>\n",
              "      <td>570</td>\n",
              "      <td>4</td>\n",
              "    </tr>\n",
              "    <tr>\n",
              "      <th>2</th>\n",
              "      <td>8138</td>\n",
              "      <td>1</td>\n",
              "      <td>2023</td>\n",
              "      <td>25</td>\n",
              "      <td>0</td>\n",
              "      <td>2</td>\n",
              "      <td>2094</td>\n",
              "      <td>136</td>\n",
              "      <td>3</td>\n",
              "    </tr>\n",
              "    <tr>\n",
              "      <th>3</th>\n",
              "      <td>9005</td>\n",
              "      <td>6</td>\n",
              "      <td>620860</td>\n",
              "      <td>777</td>\n",
              "      <td>161</td>\n",
              "      <td>153</td>\n",
              "      <td>2119</td>\n",
              "      <td>262</td>\n",
              "      <td>8</td>\n",
              "    </tr>\n",
              "    <tr>\n",
              "      <th>4</th>\n",
              "      <td>122</td>\n",
              "      <td>1</td>\n",
              "      <td>666</td>\n",
              "      <td>1</td>\n",
              "      <td>0</td>\n",
              "      <td>0</td>\n",
              "      <td>2091</td>\n",
              "      <td>31</td>\n",
              "      <td>4</td>\n",
              "    </tr>\n",
              "  </tbody>\n",
              "</table>\n",
              "</div>"
            ],
            "text/plain": [
              "   vidid  adview    views  likes  ...  comment  published  duration  category\n",
              "0   5912      40  1031602   8523  ...     1095       2168       457         6\n",
              "1   2741       2     1707     56  ...        6       2185       570         4\n",
              "2   8138       1     2023     25  ...        2       2094       136         3\n",
              "3   9005       6   620860    777  ...      153       2119       262         8\n",
              "4    122       1      666      1  ...        0       2091        31         4\n",
              "\n",
              "[5 rows x 9 columns]"
            ]
          },
          "metadata": {
            "tags": []
          },
          "execution_count": 54
        }
      ]
    },
    {
      "cell_type": "code",
      "metadata": {
        "colab": {
          "base_uri": "https://localhost:8080/",
          "height": 524
        },
        "id": "zYtLKvPmBGXN",
        "outputId": "a2c3c1ca-fb78-4848-b645-541fc01a9b52"
      },
      "source": [
        "# Visualization\n",
        "  # Individual Plots\n",
        "plt.hist(trainData[\"category\"])\n",
        "plt.show()\n",
        "plt.plot(trainData[\"adview\"])\n",
        "plt.show()"
      ],
      "execution_count": 55,
      "outputs": [
        {
          "output_type": "display_data",
          "data": {
            "image/png": "[encoded data removed]",
            "text/plain": [
              "<Figure size 432x288 with 1 Axes>"
            ]
          },
          "metadata": {
            "tags": [],
            "needs_background": "light"
          }
        },
        {
          "output_type": "display_data",
          "data": {
            "image/png": "[encoded data removed]",
            "text/plain": [
              "<Figure size 432x288 with 1 Axes>"
            ]
          },
          "metadata": {
            "tags": [],
            "needs_background": "light"
          }
        }
      ]
    },
    {
      "cell_type": "code",
      "metadata": {
        "id": "jy28CMTlCK-t"
      },
      "source": [
        "# Remove videos with adview greater than 2000000 as outlier\n",
        "trainData=trainData[trainData[\"adview\"]<2000000]"
      ],
      "execution_count": 56,
      "outputs": []
    },
    {
      "cell_type": "code",
      "metadata": {
        "colab": {
          "base_uri": "https://localhost:8080/",
          "height": 524
        },
        "id": "WugBZkGV0bNU",
        "outputId": "0f7bde20-7769-49df-9dad-31225d71cd3d"
      },
      "source": [
        "# Visualization\n",
        "  # Individual Plots\n",
        "plt.hist(trainData[\"category\"])\n",
        "plt.show()\n",
        "plt.plot(trainData[\"adview\"])\n",
        "plt.show()"
      ],
      "execution_count": 57,
      "outputs": [
        {
          "output_type": "display_data",
          "data": {
            "image/png": "[encoded data removed]",
            "text/plain": [
              "<Figure size 432x288 with 1 Axes>"
            ]
          },
          "metadata": {
            "tags": [],
            "needs_background": "light"
          }
        },
        {
          "output_type": "display_data",
          "data": {
            "image/png": "[encoded data removed]",
            "text/plain": [
              "<Figure size 432x288 with 1 Axes>"
            ]
          },
          "metadata": {
            "tags": [],
            "needs_background": "light"
          }
        }
      ]
    },
    {
      "cell_type": "code",
      "metadata": {
        "colab": {
          "base_uri": "https://localhost:8080/",
          "height": 486
        },
        "id": "_Xl7rJ7kDBsM",
        "outputId": "a9379c2e-8ce0-44e2-c50a-5b9a90458403"
      },
      "source": [
        "# Heatmap\n",
        "import seaborn as sns\n",
        "\n",
        "f, ax = plt.subplots(figsize=(10,8))\n",
        "corr= trainData.corr()\n",
        "sns.heatmap(corr,mask=np.zeros_like(corr, dtype=np.bool),cmap=sns.diverging_palette(220, 10, as_cmap=True), square=True, ax=ax,annot=True)\n",
        "plt.show()"
      ],
      "execution_count": 58,
      "outputs": [
        {
          "output_type": "display_data",
          "data": {
            "image/png": "[encoded data removed]",
            "text/plain": [
              "<Figure size 720x576 with 2 Axes>"
            ]
          },
          "metadata": {
            "tags": [],
            "needs_background": "light"
          }
        }
      ]
    },
    {
      "cell_type": "code",
      "metadata": {
        "colab": {
          "base_uri": "https://localhost:8080/"
        },
        "id": "8Bc6ArT7HtCn",
        "outputId": "63a80323-5691-4136-d1dd-34f6b6c5a39a"
      },
      "source": [
        "# Split data\n",
        "Y_train = pd.DataFrame(data = trainData.iloc[:,1].values,columns=['target']) #adview column\n",
        "trainData=trainData.drop([\"adview\"],axis=1)\n",
        "trainData=trainData.drop([\"vidid\"],axis=1)\n",
        "trainData.head(),Y_train"
      ],
      "execution_count": 59,
      "outputs": [
        {
          "output_type": "execute_result",
          "data": {
            "text/plain": [
              "(     views  likes  dislikes  comment  published  duration  category\n",
              " 0  1031602   8523       363     1095       2168       457         6\n",
              " 1     1707     56         2        6       2185       570         4\n",
              " 2     2023     25         0        2       2094       136         3\n",
              " 3   620860    777       161      153       2119       262         8\n",
              " 4      666      1         0        0       2091        31         4,\n",
              "        target\n",
              " 0          40\n",
              " 1           2\n",
              " 2           1\n",
              " 3           6\n",
              " 4           1\n",
              " ...       ...\n",
              " 14631       2\n",
              " 14632       1\n",
              " 14633       4\n",
              " 14634       1\n",
              " 14635       1\n",
              " \n",
              " [14636 rows x 1 columns])"
            ]
          },
          "metadata": {
            "tags": []
          },
          "execution_count": 59
        }
      ]
    },
    {
      "cell_type": "code",
      "metadata": {
        "colab": {
          "base_uri": "https://localhost:8080/"
        },
        "id": "b5l5oCwDJLzo",
        "outputId": "2f9f08e7-4089-45bf-8fa5-6cecadef8eb3"
      },
      "source": [
        "from sklearn.model_selection import train_test_split\n",
        "X_train, X_test, y_train, y_test = train_test_split(trainData, Y_train, test_size=0.2, random_state=42)\n",
        "X_train, y_train, X_test, y_test"
      ],
      "execution_count": 60,
      "outputs": [
        {
          "output_type": "execute_result",
          "data": {
            "text/plain": [
              "(         views  likes  dislikes  comment  published  duration  category\n",
              " 13440    86739    117         9        4       1217       180         4\n",
              " 9523   1419766    887       362      232       1547      5811         7\n",
              " 3012     26086     19         0        9        966       178         6\n",
              " 1888    305445   3662        45      555       1484       257         7\n",
              " 11378   737649   1702        96       53       1127       895         4\n",
              " ...        ...    ...       ...      ...        ...       ...       ...\n",
              " 5316     31648    140        24       14       1925       231         7\n",
              " 13748     1804      4         1        0       1049       232         4\n",
              " 5522    204817     86        35       11       1237       218         4\n",
              " 883    1361366   1384       757      185       2145       240         7\n",
              " 7445     39758    122         6        3        224       354         4\n",
              " \n",
              " [11708 rows x 7 columns],        target\n",
              " 13119      39\n",
              " 9293        4\n",
              " 2937    18782\n",
              " 1839        2\n",
              " 11099      20\n",
              " ...       ...\n",
              " 5191    21127\n",
              " 13418       1\n",
              " 5390        1\n",
              " 860         2\n",
              " 7270        1\n",
              " \n",
              " [11708 rows x 1 columns],         views  likes  dislikes  comment  published  duration  category\n",
              " 4912   630898   1625       117       80        370       365         4\n",
              " 4921      384      2         0        0       2047        15         5\n",
              " 3813    36772    138         4        7       1281       904         2\n",
              " 9091    73482     74        21        4        345      1308         4\n",
              " 8485    86827    257         5      128       1999       481         4\n",
              " ...       ...    ...       ...      ...        ...       ...       ...\n",
              " 3788    40389    250         7        9       2230       189         4\n",
              " 4993   127443     61        10        0        501       143         4\n",
              " 6953    85311     25        12        1        599       408         5\n",
              " 769     67541    691        19       66       2130       363         4\n",
              " 10392  231471    226        29       31        387       683         5\n",
              " \n",
              " [2928 rows x 7 columns],        target\n",
              " 4791        5\n",
              " 4800        2\n",
              " 3717        5\n",
              " 8876        1\n",
              " 8288        2\n",
              " ...       ...\n",
              " 3694        1\n",
              " 4872        9\n",
              " 6791        1\n",
              " 750         2\n",
              " 10144      11\n",
              " \n",
              " [2928 rows x 1 columns])"
            ]
          },
          "metadata": {
            "tags": []
          },
          "execution_count": 60
        }
      ]
    },
    {
      "cell_type": "code",
      "metadata": {
        "colab": {
          "base_uri": "https://localhost:8080/"
        },
        "id": "P9pcvup4KIdn",
        "outputId": "2c4ad2f4-0f5c-46ab-dd33-b0df07917903"
      },
      "source": [
        "X_train.shape"
      ],
      "execution_count": 61,
      "outputs": [
        {
          "output_type": "execute_result",
          "data": {
            "text/plain": [
              "(11708, 7)"
            ]
          },
          "metadata": {
            "tags": []
          },
          "execution_count": 61
        }
      ]
    },
    {
      "cell_type": "code",
      "metadata": {
        "colab": {
          "base_uri": "https://localhost:8080/"
        },
        "id": "B-NSFUeUKciG",
        "outputId": "ae6d0f5c-27db-4c64-939d-82e207420f56"
      },
      "source": [
        "# Normalize Data +convert panda array to numpy array automatically,values b/w 0 &1 taking min,max values\n",
        "from sklearn.preprocessing import MinMaxScaler\n",
        "scaler = MinMaxScaler()\n",
        "X_train = scaler.fit_transform(X_train)\n",
        "X_test = scaler.fit_transform(X_test)\n",
        "X_train,X_test\n",
        "# X_train.describe()-count,mean,std,min,max"
      ],
      "execution_count": 64,
      "outputs": [
        {
          "output_type": "execute_result",
          "data": {
            "text/plain": [
              "(array([[6.27970800e-04, 4.12227296e-04, 1.82005703e-04, ...,\n",
              "         5.10700797e-01, 4.25360966e-03, 4.28571429e-01],\n",
              "        [1.02842406e-02, 3.12517617e-03, 7.32067383e-03, ...,\n",
              "         6.49181704e-01, 1.37320699e-01, 8.57142857e-01],\n",
              "        [1.88608556e-04, 6.69428942e-05, 0.00000000e+00, ...,\n",
              "         4.05371381e-01, 4.20634733e-03, 7.14285714e-01],\n",
              "        ...,\n",
              "        [1.48331209e-03, 3.03004679e-04, 7.07799956e-04, ...,\n",
              "         5.19093580e-01, 5.15159392e-03, 4.28571429e-01],\n",
              "        [9.86119882e-03, 4.87626135e-03, 1.53087019e-02, ...,\n",
              "         9.00125892e-01, 5.67147955e-03, 8.57142857e-01],\n",
              "        [2.87646701e-04, 4.29843847e-04, 1.21337135e-04, ...,\n",
              "         9.39991607e-02, 8.36543233e-03, 4.28571429e-01]]),\n",
              " array([[7.17372469e-03, 8.63080853e-03, 3.31069610e-03, ...,\n",
              "         1.54621849e-01, 1.32738468e-02, 4.28571429e-01],\n",
              "        [3.43438476e-06, 1.06225336e-05, 0.00000000e+00, ...,\n",
              "         8.59243697e-01, 3.68717968e-04, 5.71428571e-01],\n",
              "        [4.17243632e-04, 7.32954817e-04, 1.13186191e-04, ...,\n",
              "         5.37394958e-01, 3.31477453e-02, 1.42857143e-01],\n",
              "        ...,\n",
              "        [9.69235691e-04, 1.32781670e-04, 3.39558574e-04, ...,\n",
              "         2.50840336e-01, 1.48593341e-02, 5.71428571e-01],\n",
              "        [7.67152853e-04, 3.67008535e-03, 5.37634409e-04, ...,\n",
              "         8.94117647e-01, 1.32001032e-02, 4.28571429e-01],\n",
              "        [2.63138694e-03, 1.20034629e-03, 8.20599887e-04, ...,\n",
              "         1.61764706e-01, 2.49990782e-02, 5.71428571e-01]]))"
            ]
          },
          "metadata": {
            "tags": []
          },
          "execution_count": 64
        }
      ]
    },
    {
      "cell_type": "code",
      "metadata": {
        "colab": {
          "base_uri": "https://localhost:8080/"
        },
        "id": "uXNSqnpi1pWS",
        "outputId": "2ea3971a-a214-45a8-e6ba-1ec5d909abea"
      },
      "source": [
        "X_train.mean()"
      ],
      "execution_count": 65,
      "outputs": [
        {
          "output_type": "execute_result",
          "data": {
            "text/plain": [
              "0.1739096800320488"
            ]
          },
          "metadata": {
            "tags": []
          },
          "execution_count": 65
        }
      ]
    },
    {
      "cell_type": "code",
      "metadata": {
        "id": "_Zl7XqW0LGXV"
      },
      "source": [
        "# Evaluation Data\n",
        "from sklearn import metrics\n",
        "def print_error(X_test, y_test, model_name):\n",
        "  prediction = model_name.predict(X_test)\n",
        "  print('Mean Absolute Error:', metrics.mean_absolute_error(y_test, prediction))\n",
        "  print('Mean Squared Error:', metrics.mean_squared_error(y_test, prediction))\n",
        "  print('Root Mean Squared Error:', np.sqrt(metrics.mean_squared_error(y_test, prediction)))\n"
      ],
      "execution_count": 66,
      "outputs": []
    },
    {
      "cell_type": "code",
      "metadata": {
        "colab": {
          "base_uri": "https://localhost:8080/"
        },
        "id": "sgYuLxI3PDsp",
        "outputId": "9f709108-654e-4acf-e638-97fa117996bf"
      },
      "source": [
        "# Linear Regression\n",
        "from sklearn import linear_model\n",
        "linear_regression = linear_model.LinearRegression()\n",
        "linear_regression.fit(X_train, y_train)\n",
        "print_error(X_test,y_test, linear_regression)\n",
        "\n",
        "#linear_regression.predict(X_test)"
      ],
      "execution_count": 67,
      "outputs": [
        {
          "output_type": "stream",
          "text": [
            "Mean Absolute Error: 3707.378005824532\n",
            "Mean Squared Error: 835663131.1210337\n",
            "Root Mean Squared Error: 28907.83857573986\n"
          ],
          "name": "stdout"
        }
      ]
    },
    {
      "cell_type": "code",
      "metadata": {
        "colab": {
          "base_uri": "https://localhost:8080/"
        },
        "id": "ZA5K3RerRD89",
        "outputId": "8f91db9d-4c83-4b30-9ba9-beac5a0599bd"
      },
      "source": [
        "# Decision Tree Regressor\n",
        "from sklearn.tree import DecisionTreeRegressor\n",
        "decision_tree = DecisionTreeRegressor()\n",
        "decision_tree.fit(X_train, y_train)\n",
        "print_error(X_test, y_test, decision_tree)"
      ],
      "execution_count": 68,
      "outputs": [
        {
          "output_type": "stream",
          "text": [
            "Mean Absolute Error: 2835.9627732240438\n",
            "Mean Squared Error: 1200085548.8384564\n",
            "Root Mean Squared Error: 34642.25092049384\n"
          ],
          "name": "stdout"
        }
      ]
    },
    {
      "cell_type": "code",
      "metadata": {
        "colab": {
          "base_uri": "https://localhost:8080/"
        },
        "id": "0kIq6ozzSBiO",
        "outputId": "c6b57e22-658f-4ba5-92a0-42d5ba9a3761"
      },
      "source": [
        "# Random Forest Regressor\n",
        "from sklearn.ensemble import RandomForestRegressor\n",
        "n_estimators = 200\n",
        "max_depth = 25\n",
        "min_samples_split = 15\n",
        "min_samples_leaf = 2\n",
        "random_forest= RandomForestRegressor(n_estimators =n_estimators,max_depth=max_depth,min_samples_split=min_samples_split,min_samples_leaf=min_samples_leaf)\n",
        "random_forest.fit(X_train,y_train)\n",
        "print_error(X_test,y_test,random_forest)"
      ],
      "execution_count": 69,
      "outputs": [
        {
          "output_type": "stream",
          "text": [
            "/usr/local/lib/python3.7/dist-packages/ipykernel_launcher.py:8: DataConversionWarning: A column-vector y was passed when a 1d array was expected. Please change the shape of y to (n_samples,), for example using ravel().\n",
            "  \n"
          ],
          "name": "stderr"
        },
        {
          "output_type": "stream",
          "text": [
            "Mean Absolute Error: 3361.4018026234116\n",
            "Mean Squared Error: 688194090.4734002\n",
            "Root Mean Squared Error: 26233.453651271313\n"
          ],
          "name": "stdout"
        }
      ]
    },
    {
      "cell_type": "code",
      "metadata": {
        "colab": {
          "base_uri": "https://localhost:8080/"
        },
        "id": "QDTti0jDPFpU",
        "outputId": "431d1de6-86d9-48b5-bb24-f75f01c69a42"
      },
      "source": [
        "# Support Vector Regressor\n",
        "from sklearn.svm import SVR\n",
        "supportvector_regressor = SVR()\n",
        "supportvector_regressor.fit(X_train,y_train)\n",
        "print_error(X_test,y_test, linear_regression)"
      ],
      "execution_count": 70,
      "outputs": [
        {
          "output_type": "stream",
          "text": [
            "/usr/local/lib/python3.7/dist-packages/sklearn/utils/validation.py:760: DataConversionWarning: A column-vector y was passed when a 1d array was expected. Please change the shape of y to (n_samples, ), for example using ravel().\n",
            "  y = column_or_1d(y, warn=True)\n"
          ],
          "name": "stderr"
        },
        {
          "output_type": "stream",
          "text": [
            "Mean Absolute Error: 3707.378005824532\n",
            "Mean Squared Error: 835663131.1210337\n",
            "Root Mean Squared Error: 28907.83857573986\n"
          ],
          "name": "stdout"
        }
      ]
    },
    {
      "cell_type": "code",
      "metadata": {
        "colab": {
          "base_uri": "https://localhost:8080/"
        },
        "id": "gClGhcTjQ_b8",
        "outputId": "d5ca669e-263f-425d-954d-9ce361237b8e"
      },
      "source": [
        "# Artificial Neural Network\n",
        "import keras\n",
        "from keras.layers import Dense\n",
        "\n",
        "ann = keras.models.Sequential([\n",
        "                               Dense(6, activation=\"relu\",\n",
        "                                     input_shape=X_train.shape[1:]),\n",
        "                               Dense(6, activation=\"relu\"),\n",
        "                               Dense(1)\n",
        "])#dense(1) is the output layer with 1 neuron\n",
        "optimizer=keras.optimizers.Adam()\n",
        "loss=keras.losses.mean_squared_error\n",
        "ann.compile(optimizer=optimizer,loss=loss,metrics=[\"mean_squared_error\"])\n",
        "\n",
        "history=ann.fit(X_train,y_train,epochs=100)\n",
        "\n",
        "ann.summary()\n",
        "\n",
        "print_error(X_test,y_test,ann)"
      ],
      "execution_count": 71,
      "outputs": [
        {
          "output_type": "stream",
          "text": [
            "Epoch 1/100\n",
            "366/366 [==============================] - 1s 1ms/step - loss: 342305607.2031 - mean_squared_error: 342305607.2031\n",
            "Epoch 2/100\n",
            "366/366 [==============================] - 0s 1ms/step - loss: 930021075.0330 - mean_squared_error: 930021075.0330\n",
            "Epoch 3/100\n",
            "366/366 [==============================] - 0s 1ms/step - loss: 617054903.3706 - mean_squared_error: 617054903.3706\n",
            "Epoch 4/100\n",
            "366/366 [==============================] - 0s 1ms/step - loss: 1055085731.0518 - mean_squared_error: 1055085731.0518\n",
            "Epoch 5/100\n",
            "366/366 [==============================] - 0s 1ms/step - loss: 553637521.1022 - mean_squared_error: 553637521.1022\n",
            "Epoch 6/100\n",
            "366/366 [==============================] - 0s 1ms/step - loss: 283947655.5347 - mean_squared_error: 283947655.5347\n",
            "Epoch 7/100\n",
            "366/366 [==============================] - 0s 1ms/step - loss: 442529095.7146 - mean_squared_error: 442529095.7146\n",
            "Epoch 8/100\n",
            "366/366 [==============================] - 0s 1ms/step - loss: 647127294.5395 - mean_squared_error: 647127294.5395\n",
            "Epoch 9/100\n",
            "366/366 [==============================] - 0s 1ms/step - loss: 2049271878.2779 - mean_squared_error: 2049271878.2779\n",
            "Epoch 10/100\n",
            "366/366 [==============================] - 0s 1ms/step - loss: 398026733.1253 - mean_squared_error: 398026733.1253\n",
            "Epoch 11/100\n",
            "366/366 [==============================] - 0s 1ms/step - loss: 797406101.0354 - mean_squared_error: 797406101.0354\n",
            "Epoch 12/100\n",
            "366/366 [==============================] - 0s 1ms/step - loss: 718189667.7602 - mean_squared_error: 718189667.7602\n",
            "Epoch 13/100\n",
            "366/366 [==============================] - 0s 1ms/step - loss: 703018284.9836 - mean_squared_error: 703018284.9836\n",
            "Epoch 14/100\n",
            "366/366 [==============================] - 0s 1ms/step - loss: 695963239.5460 - mean_squared_error: 695963239.5460\n",
            "Epoch 15/100\n",
            "366/366 [==============================] - 0s 1ms/step - loss: 842117453.8928 - mean_squared_error: 842117453.8928\n",
            "Epoch 16/100\n",
            "366/366 [==============================] - 0s 1ms/step - loss: 523127776.9470 - mean_squared_error: 523127776.9470\n",
            "Epoch 17/100\n",
            "366/366 [==============================] - 0s 1ms/step - loss: 652857750.7872 - mean_squared_error: 652857750.7872\n",
            "Epoch 18/100\n",
            "366/366 [==============================] - 0s 1ms/step - loss: 652551786.2015 - mean_squared_error: 652551786.2015\n",
            "Epoch 19/100\n",
            "366/366 [==============================] - 0s 1ms/step - loss: 570215586.9877 - mean_squared_error: 570215586.9877\n",
            "Epoch 20/100\n",
            "366/366 [==============================] - 0s 1ms/step - loss: 539159933.4128 - mean_squared_error: 539159933.4128\n",
            "Epoch 21/100\n",
            "366/366 [==============================] - 0s 1ms/step - loss: 1470889260.0259 - mean_squared_error: 1470889260.0259\n",
            "Epoch 22/100\n",
            "366/366 [==============================] - 0s 1ms/step - loss: 651312121.1117 - mean_squared_error: 651312121.1117\n",
            "Epoch 23/100\n",
            "366/366 [==============================] - 0s 1ms/step - loss: 752564154.3706 - mean_squared_error: 752564154.3706\n",
            "Epoch 24/100\n",
            "366/366 [==============================] - 0s 1ms/step - loss: 782983251.3716 - mean_squared_error: 782983251.3716\n",
            "Epoch 25/100\n",
            "366/366 [==============================] - 0s 1ms/step - loss: 888533106.0075 - mean_squared_error: 888533106.0075\n",
            "Epoch 26/100\n",
            "366/366 [==============================] - 0s 1ms/step - loss: 576236441.5259 - mean_squared_error: 576236441.5259\n",
            "Epoch 27/100\n",
            "366/366 [==============================] - 0s 1ms/step - loss: 535002103.9275 - mean_squared_error: 535002103.9275\n",
            "Epoch 28/100\n",
            "366/366 [==============================] - 0s 1ms/step - loss: 535647180.4928 - mean_squared_error: 535647180.4928\n",
            "Epoch 29/100\n",
            "366/366 [==============================] - 0s 1ms/step - loss: 749984923.7623 - mean_squared_error: 749984923.7623\n",
            "Epoch 30/100\n",
            "366/366 [==============================] - 0s 1ms/step - loss: 314897241.2207 - mean_squared_error: 314897241.2207\n",
            "Epoch 31/100\n",
            "366/366 [==============================] - 0s 1ms/step - loss: 487917355.7657 - mean_squared_error: 487917355.7657\n",
            "Epoch 32/100\n",
            "366/366 [==============================] - 0s 1ms/step - loss: 494299141.3733 - mean_squared_error: 494299141.3733\n",
            "Epoch 33/100\n",
            "366/366 [==============================] - 0s 1ms/step - loss: 505662222.5831 - mean_squared_error: 505662222.5831\n",
            "Epoch 34/100\n",
            "366/366 [==============================] - 0s 1ms/step - loss: 752398918.0814 - mean_squared_error: 752398918.0814\n",
            "Epoch 35/100\n",
            "366/366 [==============================] - 0s 1ms/step - loss: 728105769.2459 - mean_squared_error: 728105769.2459\n",
            "Epoch 36/100\n",
            "366/366 [==============================] - 0s 1ms/step - loss: 456383483.8706 - mean_squared_error: 456383483.8706\n",
            "Epoch 37/100\n",
            "366/366 [==============================] - 0s 1ms/step - loss: 1090515831.1499 - mean_squared_error: 1090515831.1499\n",
            "Epoch 38/100\n",
            "366/366 [==============================] - 0s 1ms/step - loss: 782950017.6325 - mean_squared_error: 782950017.6325\n",
            "Epoch 39/100\n",
            "366/366 [==============================] - 0s 1ms/step - loss: 439242002.1798 - mean_squared_error: 439242002.1798\n",
            "Epoch 40/100\n",
            "366/366 [==============================] - 0s 1ms/step - loss: 618569704.6451 - mean_squared_error: 618569704.6451\n",
            "Epoch 41/100\n",
            "366/366 [==============================] - 0s 1ms/step - loss: 1206208906.6560 - mean_squared_error: 1206208906.6560\n",
            "Epoch 42/100\n",
            "366/366 [==============================] - 0s 1ms/step - loss: 452922732.5858 - mean_squared_error: 452922732.5858\n",
            "Epoch 43/100\n",
            "366/366 [==============================] - 0s 1ms/step - loss: 396290723.9319 - mean_squared_error: 396290723.9319\n",
            "Epoch 44/100\n",
            "366/366 [==============================] - 0s 1ms/step - loss: 923539951.7234 - mean_squared_error: 923539951.7234\n",
            "Epoch 45/100\n",
            "366/366 [==============================] - 0s 1ms/step - loss: 600127230.4305 - mean_squared_error: 600127230.4305\n",
            "Epoch 46/100\n",
            "366/366 [==============================] - 0s 1ms/step - loss: 984657568.0674 - mean_squared_error: 984657568.0674\n",
            "Epoch 47/100\n",
            "366/366 [==============================] - 0s 1ms/step - loss: 558638328.2970 - mean_squared_error: 558638328.2970\n",
            "Epoch 48/100\n",
            "366/366 [==============================] - 0s 1ms/step - loss: 438190301.4060 - mean_squared_error: 438190301.4060\n",
            "Epoch 49/100\n",
            "366/366 [==============================] - 0s 1ms/step - loss: 537165404.6240 - mean_squared_error: 537165404.6240\n",
            "Epoch 50/100\n",
            "366/366 [==============================] - 0s 1ms/step - loss: 679745772.3379 - mean_squared_error: 679745772.3379\n",
            "Epoch 51/100\n",
            "366/366 [==============================] - 0s 1ms/step - loss: 559164732.1880 - mean_squared_error: 559164732.1880\n",
            "Epoch 52/100\n",
            "366/366 [==============================] - 0s 1ms/step - loss: 915281178.4939 - mean_squared_error: 915281178.4939\n",
            "Epoch 53/100\n",
            "366/366 [==============================] - 0s 1ms/step - loss: 738313416.3651 - mean_squared_error: 738313416.3651\n",
            "Epoch 54/100\n",
            "366/366 [==============================] - 0s 1ms/step - loss: 591600577.4360 - mean_squared_error: 591600577.4360\n",
            "Epoch 55/100\n",
            "366/366 [==============================] - 0s 1ms/step - loss: 357631021.1928 - mean_squared_error: 357631021.1928\n",
            "Epoch 56/100\n",
            "366/366 [==============================] - 0s 1ms/step - loss: 1619435471.7166 - mean_squared_error: 1619435471.7166\n",
            "Epoch 57/100\n",
            "366/366 [==============================] - 0s 1ms/step - loss: 498627706.2984 - mean_squared_error: 498627706.2984\n",
            "Epoch 58/100\n",
            "366/366 [==============================] - 0s 1ms/step - loss: 704792983.1335 - mean_squared_error: 704792983.1335\n",
            "Epoch 59/100\n",
            "366/366 [==============================] - 0s 1ms/step - loss: 500819116.0225 - mean_squared_error: 500819116.0225\n",
            "Epoch 60/100\n",
            "366/366 [==============================] - 0s 1ms/step - loss: 566134970.8842 - mean_squared_error: 566134970.8842\n",
            "Epoch 61/100\n",
            "366/366 [==============================] - 0s 1ms/step - loss: 726782285.7248 - mean_squared_error: 726782285.7248\n",
            "Epoch 62/100\n",
            "366/366 [==============================] - 0s 1ms/step - loss: 744770904.7602 - mean_squared_error: 744770904.7602\n",
            "Epoch 63/100\n",
            "366/366 [==============================] - 0s 1ms/step - loss: 577937927.5858 - mean_squared_error: 577937927.5858\n",
            "Epoch 64/100\n",
            "366/366 [==============================] - 0s 1ms/step - loss: 868436875.5000 - mean_squared_error: 868436875.5000\n",
            "Epoch 65/100\n",
            "366/366 [==============================] - 0s 1ms/step - loss: 777156303.4986 - mean_squared_error: 777156303.4986\n",
            "Epoch 66/100\n",
            "366/366 [==============================] - 0s 1ms/step - loss: 782486610.2343 - mean_squared_error: 782486610.2343\n",
            "Epoch 67/100\n",
            "366/366 [==============================] - 0s 1ms/step - loss: 584945434.9121 - mean_squared_error: 584945434.9121\n",
            "Epoch 68/100\n",
            "366/366 [==============================] - 0s 1ms/step - loss: 721945318.4176 - mean_squared_error: 721945318.4176\n",
            "Epoch 69/100\n",
            "366/366 [==============================] - 0s 1ms/step - loss: 459989183.2657 - mean_squared_error: 459989183.2657\n",
            "Epoch 70/100\n",
            "366/366 [==============================] - 0s 1ms/step - loss: 355705255.2364 - mean_squared_error: 355705255.2364\n",
            "Epoch 71/100\n",
            "366/366 [==============================] - 0s 1ms/step - loss: 727562511.3992 - mean_squared_error: 727562511.3992\n",
            "Epoch 72/100\n",
            "366/366 [==============================] - 0s 1ms/step - loss: 1378363562.7371 - mean_squared_error: 1378363562.7371\n",
            "Epoch 73/100\n",
            "366/366 [==============================] - 0s 1ms/step - loss: 999218588.1907 - mean_squared_error: 999218588.1907\n",
            "Epoch 74/100\n",
            "366/366 [==============================] - 0s 1ms/step - loss: 397800824.3392 - mean_squared_error: 397800824.3392\n",
            "Epoch 75/100\n",
            "366/366 [==============================] - 0s 1ms/step - loss: 837264425.6757 - mean_squared_error: 837264425.6757\n",
            "Epoch 76/100\n",
            "366/366 [==============================] - 0s 1ms/step - loss: 1685312596.3869 - mean_squared_error: 1685312596.3869\n",
            "Epoch 77/100\n",
            "366/366 [==============================] - 0s 1ms/step - loss: 581343618.6744 - mean_squared_error: 581343618.6744\n",
            "Epoch 78/100\n",
            "366/366 [==============================] - 0s 1ms/step - loss: 626686007.9373 - mean_squared_error: 626686007.9373\n",
            "Epoch 79/100\n",
            "366/366 [==============================] - 0s 1ms/step - loss: 760620742.6594 - mean_squared_error: 760620742.6594\n",
            "Epoch 80/100\n",
            "366/366 [==============================] - 0s 1ms/step - loss: 600801275.4768 - mean_squared_error: 600801275.4768\n",
            "Epoch 81/100\n",
            "366/366 [==============================] - 0s 1ms/step - loss: 539829580.1478 - mean_squared_error: 539829580.1478\n",
            "Epoch 82/100\n",
            "366/366 [==============================] - 0s 1ms/step - loss: 697339068.1580 - mean_squared_error: 697339068.1580\n",
            "Epoch 83/100\n",
            "366/366 [==============================] - 0s 1ms/step - loss: 768364605.3842 - mean_squared_error: 768364605.3842\n",
            "Epoch 84/100\n",
            "366/366 [==============================] - 0s 1ms/step - loss: 661385651.1553 - mean_squared_error: 661385651.1553\n",
            "Epoch 85/100\n",
            "366/366 [==============================] - 0s 1ms/step - loss: 844992949.4101 - mean_squared_error: 844992949.4101\n",
            "Epoch 86/100\n",
            "366/366 [==============================] - 0s 1ms/step - loss: 372885744.9094 - mean_squared_error: 372885744.9094\n",
            "Epoch 87/100\n",
            "366/366 [==============================] - 0s 1ms/step - loss: 626969742.1362 - mean_squared_error: 626969742.1362\n",
            "Epoch 88/100\n",
            "366/366 [==============================] - 0s 1ms/step - loss: 463057399.0736 - mean_squared_error: 463057399.0736\n",
            "Epoch 89/100\n",
            "366/366 [==============================] - 0s 1ms/step - loss: 1025899953.3835 - mean_squared_error: 1025899953.3835\n",
            "Epoch 90/100\n",
            "366/366 [==============================] - 0s 1ms/step - loss: 752805179.1390 - mean_squared_error: 752805179.1390\n",
            "Epoch 91/100\n",
            "366/366 [==============================] - 0s 1ms/step - loss: 711653396.0089 - mean_squared_error: 711653396.0089\n",
            "Epoch 92/100\n",
            "366/366 [==============================] - 0s 1ms/step - loss: 543236153.8549 - mean_squared_error: 543236153.8549\n",
            "Epoch 93/100\n",
            "366/366 [==============================] - 0s 1ms/step - loss: 426062369.1117 - mean_squared_error: 426062369.1117\n",
            "Epoch 94/100\n",
            "366/366 [==============================] - 0s 1ms/step - loss: 634242703.7970 - mean_squared_error: 634242703.7970\n",
            "Epoch 95/100\n",
            "366/366 [==============================] - 0s 1ms/step - loss: 369386029.8161 - mean_squared_error: 369386029.8161\n",
            "Epoch 96/100\n",
            "366/366 [==============================] - 0s 1ms/step - loss: 586212836.5668 - mean_squared_error: 586212836.5668\n",
            "Epoch 97/100\n",
            "366/366 [==============================] - 0s 1ms/step - loss: 588143181.4094 - mean_squared_error: 588143181.4094\n",
            "Epoch 98/100\n",
            "366/366 [==============================] - 0s 1ms/step - loss: 962885642.5504 - mean_squared_error: 962885642.5504\n",
            "Epoch 99/100\n",
            "366/366 [==============================] - 0s 1ms/step - loss: 563726149.1383 - mean_squared_error: 563726149.1383\n",
            "Epoch 100/100\n",
            "366/366 [==============================] - 0s 1ms/step - loss: 828183758.5606 - mean_squared_error: 828183758.5606\n",
            "Model: \"sequential_1\"\n",
            "_________________________________________________________________\n",
            "Layer (type)                 Output Shape              Param #   \n",
            "=================================================================\n",
            "dense_3 (Dense)              (None, 6)                 48        \n",
            "_________________________________________________________________\n",
            "dense_4 (Dense)              (None, 6)                 42        \n",
            "_________________________________________________________________\n",
            "dense_5 (Dense)              (None, 1)                 7         \n",
            "=================================================================\n",
            "Total params: 97\n",
            "Trainable params: 97\n",
            "Non-trainable params: 0\n",
            "_________________________________________________________________\n",
            "Mean Absolute Error: 3312.24203231947\n",
            "Mean Squared Error: 829865802.7558113\n",
            "Root Mean Squared Error: 28807.391460453535\n"
          ],
          "name": "stdout"
        }
      ]
    },
    {
      "cell_type": "code",
      "metadata": {
        "colab": {
          "base_uri": "https://localhost:8080/"
        },
        "id": "EuEiuEEduP1f",
        "outputId": "8b9c874b-fcf1-4806-c306-e8e195d759ea"
      },
      "source": [
        "# Saving Scikitlearn models\n",
        "import joblib\n",
        "joblib.dump(decision_tree,\"decisiontree_youtubeadview.pkl\")"
      ],
      "execution_count": 25,
      "outputs": [
        {
          "output_type": "execute_result",
          "data": {
            "text/plain": [
              "['decisiontree_youtubeadview.pkl']"
            ]
          },
          "metadata": {
            "tags": []
          },
          "execution_count": 25
        }
      ]
    },
    {
      "cell_type": "code",
      "metadata": {
        "id": "0tjGKs3-us4w"
      },
      "source": [
        "# Saving keras Artificial Neural Network model\n",
        "ann.save(\"ann_youtubeadview.h5\")"
      ],
      "execution_count": 27,
      "outputs": []
    },
    {
      "cell_type": "markdown",
      "metadata": {
        "id": "FAw1Csnv4uqe"
      },
      "source": [
        "# **Test.csv Preprocessing**"
      ]
    },
    {
      "cell_type": "code",
      "metadata": {
        "colab": {
          "base_uri": "https://localhost:8080/",
          "height": 202
        },
        "id": "okoK4ksw4YL4",
        "outputId": "f582b579-1b92-41fa-bb3d-1ab67cc80f8b"
      },
      "source": [
        "test_data=pd.read_csv('test.csv')\n",
        "test_data.head()"
      ],
      "execution_count": 72,
      "outputs": [
        {
          "output_type": "execute_result",
          "data": {
            "text/html": [
              "<div>\n",
              "<style scoped>\n",
              "    .dataframe tbody tr th:only-of-type {\n",
              "        vertical-align: middle;\n",
              "    }\n",
              "\n",
              "    .dataframe tbody tr th {\n",
              "        vertical-align: top;\n",
              "    }\n",
              "\n",
              "    .dataframe thead th {\n",
              "        text-align: right;\n",
              "    }\n",
              "</style>\n",
              "<table border=\"1\" class=\"dataframe\">\n",
              "  <thead>\n",
              "    <tr style=\"text-align: right;\">\n",
              "      <th></th>\n",
              "      <th>vidid</th>\n",
              "      <th>views</th>\n",
              "      <th>likes</th>\n",
              "      <th>dislikes</th>\n",
              "      <th>comment</th>\n",
              "      <th>published</th>\n",
              "      <th>duration</th>\n",
              "      <th>category</th>\n",
              "    </tr>\n",
              "  </thead>\n",
              "  <tbody>\n",
              "    <tr>\n",
              "      <th>0</th>\n",
              "      <td>VID_1054</td>\n",
              "      <td>440238</td>\n",
              "      <td>6153</td>\n",
              "      <td>218</td>\n",
              "      <td>1377</td>\n",
              "      <td>2017-02-18</td>\n",
              "      <td>PT7M29S</td>\n",
              "      <td>B</td>\n",
              "    </tr>\n",
              "    <tr>\n",
              "      <th>1</th>\n",
              "      <td>VID_18629</td>\n",
              "      <td>1040132</td>\n",
              "      <td>8171</td>\n",
              "      <td>340</td>\n",
              "      <td>1047</td>\n",
              "      <td>2016-06-28</td>\n",
              "      <td>PT6M29S</td>\n",
              "      <td>F</td>\n",
              "    </tr>\n",
              "    <tr>\n",
              "      <th>2</th>\n",
              "      <td>VID_13967</td>\n",
              "      <td>28534</td>\n",
              "      <td>31</td>\n",
              "      <td>11</td>\n",
              "      <td>1</td>\n",
              "      <td>2014-03-10</td>\n",
              "      <td>PT37M54S</td>\n",
              "      <td>D</td>\n",
              "    </tr>\n",
              "    <tr>\n",
              "      <th>3</th>\n",
              "      <td>VID_19442</td>\n",
              "      <td>1316715</td>\n",
              "      <td>2284</td>\n",
              "      <td>250</td>\n",
              "      <td>274</td>\n",
              "      <td>2010-06-05</td>\n",
              "      <td>PT9M55S</td>\n",
              "      <td>G</td>\n",
              "    </tr>\n",
              "    <tr>\n",
              "      <th>4</th>\n",
              "      <td>VID_770</td>\n",
              "      <td>1893173</td>\n",
              "      <td>2519</td>\n",
              "      <td>225</td>\n",
              "      <td>116</td>\n",
              "      <td>2016-09-03</td>\n",
              "      <td>PT3M8S</td>\n",
              "      <td>B</td>\n",
              "    </tr>\n",
              "  </tbody>\n",
              "</table>\n",
              "</div>"
            ],
            "text/plain": [
              "       vidid    views likes dislikes comment   published  duration category\n",
              "0   VID_1054   440238  6153      218    1377  2017-02-18   PT7M29S        B\n",
              "1  VID_18629  1040132  8171      340    1047  2016-06-28   PT6M29S        F\n",
              "2  VID_13967    28534    31       11       1  2014-03-10  PT37M54S        D\n",
              "3  VID_19442  1316715  2284      250     274  2010-06-05   PT9M55S        G\n",
              "4    VID_770  1893173  2519      225     116  2016-09-03    PT3M8S        B"
            ]
          },
          "metadata": {
            "tags": []
          },
          "execution_count": 72
        }
      ]
    },
    {
      "cell_type": "code",
      "metadata": {
        "colab": {
          "base_uri": "https://localhost:8080/"
        },
        "id": "uv_RQEtD4tpr",
        "outputId": "a32fd056-0276-478d-f5ef-ba1a814df65b"
      },
      "source": [
        "test_data.shape"
      ],
      "execution_count": 73,
      "outputs": [
        {
          "output_type": "execute_result",
          "data": {
            "text/plain": [
              "(8764, 8)"
            ]
          },
          "metadata": {
            "tags": []
          },
          "execution_count": 73
        }
      ]
    },
    {
      "cell_type": "code",
      "metadata": {
        "colab": {
          "base_uri": "https://localhost:8080/",
          "height": 202
        },
        "id": "GL0kEVSX5CSo",
        "outputId": "9ba386d1-d66f-40ad-b46a-ebd93d885ebf"
      },
      "source": [
        "test_data[\"category\"]=test_data[\"category\"].map(category)\n",
        "test_data.head()"
      ],
      "execution_count": 74,
      "outputs": [
        {
          "output_type": "execute_result",
          "data": {
            "text/html": [
              "<div>\n",
              "<style scoped>\n",
              "    .dataframe tbody tr th:only-of-type {\n",
              "        vertical-align: middle;\n",
              "    }\n",
              "\n",
              "    .dataframe tbody tr th {\n",
              "        vertical-align: top;\n",
              "    }\n",
              "\n",
              "    .dataframe thead th {\n",
              "        text-align: right;\n",
              "    }\n",
              "</style>\n",
              "<table border=\"1\" class=\"dataframe\">\n",
              "  <thead>\n",
              "    <tr style=\"text-align: right;\">\n",
              "      <th></th>\n",
              "      <th>vidid</th>\n",
              "      <th>views</th>\n",
              "      <th>likes</th>\n",
              "      <th>dislikes</th>\n",
              "      <th>comment</th>\n",
              "      <th>published</th>\n",
              "      <th>duration</th>\n",
              "      <th>category</th>\n",
              "    </tr>\n",
              "  </thead>\n",
              "  <tbody>\n",
              "    <tr>\n",
              "      <th>0</th>\n",
              "      <td>VID_1054</td>\n",
              "      <td>440238</td>\n",
              "      <td>6153</td>\n",
              "      <td>218</td>\n",
              "      <td>1377</td>\n",
              "      <td>2017-02-18</td>\n",
              "      <td>PT7M29S</td>\n",
              "      <td>2</td>\n",
              "    </tr>\n",
              "    <tr>\n",
              "      <th>1</th>\n",
              "      <td>VID_18629</td>\n",
              "      <td>1040132</td>\n",
              "      <td>8171</td>\n",
              "      <td>340</td>\n",
              "      <td>1047</td>\n",
              "      <td>2016-06-28</td>\n",
              "      <td>PT6M29S</td>\n",
              "      <td>6</td>\n",
              "    </tr>\n",
              "    <tr>\n",
              "      <th>2</th>\n",
              "      <td>VID_13967</td>\n",
              "      <td>28534</td>\n",
              "      <td>31</td>\n",
              "      <td>11</td>\n",
              "      <td>1</td>\n",
              "      <td>2014-03-10</td>\n",
              "      <td>PT37M54S</td>\n",
              "      <td>4</td>\n",
              "    </tr>\n",
              "    <tr>\n",
              "      <th>3</th>\n",
              "      <td>VID_19442</td>\n",
              "      <td>1316715</td>\n",
              "      <td>2284</td>\n",
              "      <td>250</td>\n",
              "      <td>274</td>\n",
              "      <td>2010-06-05</td>\n",
              "      <td>PT9M55S</td>\n",
              "      <td>7</td>\n",
              "    </tr>\n",
              "    <tr>\n",
              "      <th>4</th>\n",
              "      <td>VID_770</td>\n",
              "      <td>1893173</td>\n",
              "      <td>2519</td>\n",
              "      <td>225</td>\n",
              "      <td>116</td>\n",
              "      <td>2016-09-03</td>\n",
              "      <td>PT3M8S</td>\n",
              "      <td>2</td>\n",
              "    </tr>\n",
              "  </tbody>\n",
              "</table>\n",
              "</div>"
            ],
            "text/plain": [
              "       vidid    views likes dislikes comment   published  duration  category\n",
              "0   VID_1054   440238  6153      218    1377  2017-02-18   PT7M29S         2\n",
              "1  VID_18629  1040132  8171      340    1047  2016-06-28   PT6M29S         6\n",
              "2  VID_13967    28534    31       11       1  2014-03-10  PT37M54S         4\n",
              "3  VID_19442  1316715  2284      250     274  2010-06-05   PT9M55S         7\n",
              "4    VID_770  1893173  2519      225     116  2016-09-03    PT3M8S         2"
            ]
          },
          "metadata": {
            "tags": []
          },
          "execution_count": 74
        }
      ]
    },
    {
      "cell_type": "code",
      "metadata": {
        "colab": {
          "base_uri": "https://localhost:8080/"
        },
        "id": "d8hpbJEk5hpM",
        "outputId": "fb3dc9b8-a1b0-4051-980e-6c465d76b063"
      },
      "source": [
        "test_data=test_data[test_data.views!='F']\n",
        "test_data=test_data[test_data.likes!='F']\n",
        "test_data=test_data[test_data.dislikes!='F']\n",
        "test_data=test_data[test_data.comment!='F']\n",
        "test_data.shape"
      ],
      "execution_count": 77,
      "outputs": [
        {
          "output_type": "execute_result",
          "data": {
            "text/plain": [
              "(8549, 8)"
            ]
          },
          "metadata": {
            "tags": []
          },
          "execution_count": 77
        }
      ]
    },
    {
      "cell_type": "code",
      "metadata": {
        "colab": {
          "base_uri": "https://localhost:8080/"
        },
        "id": "uymYJPc96CSK",
        "outputId": "22c635d2-b0a7-459e-d811-e630627bf399"
      },
      "source": [
        "test_data[\"views\"]=pd.to_numeric(test_data[\"views\"])\n",
        "test_data[\"likes\"]=pd.to_numeric(test_data[\"likes\"])\n",
        "test_data[\"dislikes\"]=pd.to_numeric(test_data[\"dislikes\"])\n",
        "test_data[\"comment\"]=pd.to_numeric(test_data[\"comment\"])\n",
        "column_vidid=test_data[\"vidid\"]\n",
        "column_vidid,test_data.dtypes"
      ],
      "execution_count": 80,
      "outputs": [
        {
          "output_type": "execute_result",
          "data": {
            "text/plain": [
              "(0        VID_1054\n",
              " 1       VID_18629\n",
              " 2       VID_13967\n",
              " 3       VID_19442\n",
              " 4         VID_770\n",
              "           ...    \n",
              " 8759     VID_2944\n",
              " 8760     VID_8195\n",
              " 8761    VID_18973\n",
              " 8762     VID_5849\n",
              " 8763     VID_8494\n",
              " Name: vidid, Length: 8549, dtype: object, vidid        object\n",
              " views         int64\n",
              " likes         int64\n",
              " dislikes      int64\n",
              " comment       int64\n",
              " published    object\n",
              " duration     object\n",
              " category      int64\n",
              " dtype: object)"
            ]
          },
          "metadata": {
            "tags": []
          },
          "execution_count": 80
        }
      ]
    },
    {
      "cell_type": "code",
      "metadata": {
        "colab": {
          "base_uri": "https://localhost:8080/",
          "height": 202
        },
        "id": "KTSTmnYV66Z_",
        "outputId": "41f6b1ec-44db-4b74-f785-0331c7a12ada"
      },
      "source": [
        "test_data['vidid']=LabelEncoder().fit_transform(test_data['vidid'])\n",
        "test_data['published']=LabelEncoder().fit_transform(test_data['published'])\n",
        "test_data.head()"
      ],
      "execution_count": 82,
      "outputs": [
        {
          "output_type": "execute_result",
          "data": {
            "text/html": [
              "<div>\n",
              "<style scoped>\n",
              "    .dataframe tbody tr th:only-of-type {\n",
              "        vertical-align: middle;\n",
              "    }\n",
              "\n",
              "    .dataframe tbody tr th {\n",
              "        vertical-align: top;\n",
              "    }\n",
              "\n",
              "    .dataframe thead th {\n",
              "        text-align: right;\n",
              "    }\n",
              "</style>\n",
              "<table border=\"1\" class=\"dataframe\">\n",
              "  <thead>\n",
              "    <tr style=\"text-align: right;\">\n",
              "      <th></th>\n",
              "      <th>vidid</th>\n",
              "      <th>views</th>\n",
              "      <th>likes</th>\n",
              "      <th>dislikes</th>\n",
              "      <th>comment</th>\n",
              "      <th>published</th>\n",
              "      <th>duration</th>\n",
              "      <th>category</th>\n",
              "    </tr>\n",
              "  </thead>\n",
              "  <tbody>\n",
              "    <tr>\n",
              "      <th>0</th>\n",
              "      <td>231</td>\n",
              "      <td>440238</td>\n",
              "      <td>6153</td>\n",
              "      <td>218</td>\n",
              "      <td>1377</td>\n",
              "      <td>2053</td>\n",
              "      <td>PT7M29S</td>\n",
              "      <td>2</td>\n",
              "    </tr>\n",
              "    <tr>\n",
              "      <th>1</th>\n",
              "      <td>3444</td>\n",
              "      <td>1040132</td>\n",
              "      <td>8171</td>\n",
              "      <td>340</td>\n",
              "      <td>1047</td>\n",
              "      <td>1825</td>\n",
              "      <td>PT6M29S</td>\n",
              "      <td>6</td>\n",
              "    </tr>\n",
              "    <tr>\n",
              "      <th>2</th>\n",
              "      <td>1593</td>\n",
              "      <td>28534</td>\n",
              "      <td>31</td>\n",
              "      <td>11</td>\n",
              "      <td>1</td>\n",
              "      <td>1009</td>\n",
              "      <td>PT37M54S</td>\n",
              "      <td>4</td>\n",
              "    </tr>\n",
              "    <tr>\n",
              "      <th>3</th>\n",
              "      <td>3775</td>\n",
              "      <td>1316715</td>\n",
              "      <td>2284</td>\n",
              "      <td>250</td>\n",
              "      <td>274</td>\n",
              "      <td>116</td>\n",
              "      <td>PT9M55S</td>\n",
              "      <td>7</td>\n",
              "    </tr>\n",
              "    <tr>\n",
              "      <th>4</th>\n",
              "      <td>7644</td>\n",
              "      <td>1893173</td>\n",
              "      <td>2519</td>\n",
              "      <td>225</td>\n",
              "      <td>116</td>\n",
              "      <td>1892</td>\n",
              "      <td>PT3M8S</td>\n",
              "      <td>2</td>\n",
              "    </tr>\n",
              "  </tbody>\n",
              "</table>\n",
              "</div>"
            ],
            "text/plain": [
              "   vidid    views  likes  dislikes  comment  published  duration  category\n",
              "0    231   440238   6153       218     1377       2053   PT7M29S         2\n",
              "1   3444  1040132   8171       340     1047       1825   PT6M29S         6\n",
              "2   1593    28534     31        11        1       1009  PT37M54S         4\n",
              "3   3775  1316715   2284       250      274        116   PT9M55S         7\n",
              "4   7644  1893173   2519       225      116       1892    PT3M8S         2"
            ]
          },
          "metadata": {
            "tags": []
          },
          "execution_count": 82
        }
      ]
    },
    {
      "cell_type": "code",
      "metadata": {
        "colab": {
          "base_uri": "https://localhost:8080/"
        },
        "id": "ysjPfEIh71_M",
        "outputId": "0a3a3ce9-83bd-4c49-c657-2733dc43631c"
      },
      "source": [
        "dur=test_data[\"duration\"]\n",
        "time=dur.apply(checki)\n",
        "time.head(10)"
      ],
      "execution_count": 83,
      "outputs": [
        {
          "output_type": "execute_result",
          "data": {
            "text/plain": [
              "0     00:7:29\n",
              "1     00:6:29\n",
              "2    00:37:54\n",
              "3     00:9:55\n",
              "4      00:3:8\n",
              "5    00:39:18\n",
              "6     00:10:4\n",
              "7     00:2:35\n",
              "8    00:13:57\n",
              "9    00:17:49\n",
              "Name: duration, dtype: object"
            ]
          },
          "metadata": {
            "tags": []
          },
          "execution_count": 83
        }
      ]
    },
    {
      "cell_type": "code",
      "metadata": {
        "colab": {
          "base_uri": "https://localhost:8080/",
          "height": 202
        },
        "id": "jP6IQOMo8Wq1",
        "outputId": "37d80a90-76b5-4566-d389-6ba5c7cdcc47"
      },
      "source": [
        "time_in_secs=time.apply(func_sec)\n",
        "test_data[\"duration\"]=time_in_secs\n",
        "test_data.head()"
      ],
      "execution_count": 84,
      "outputs": [
        {
          "output_type": "execute_result",
          "data": {
            "text/html": [
              "<div>\n",
              "<style scoped>\n",
              "    .dataframe tbody tr th:only-of-type {\n",
              "        vertical-align: middle;\n",
              "    }\n",
              "\n",
              "    .dataframe tbody tr th {\n",
              "        vertical-align: top;\n",
              "    }\n",
              "\n",
              "    .dataframe thead th {\n",
              "        text-align: right;\n",
              "    }\n",
              "</style>\n",
              "<table border=\"1\" class=\"dataframe\">\n",
              "  <thead>\n",
              "    <tr style=\"text-align: right;\">\n",
              "      <th></th>\n",
              "      <th>vidid</th>\n",
              "      <th>views</th>\n",
              "      <th>likes</th>\n",
              "      <th>dislikes</th>\n",
              "      <th>comment</th>\n",
              "      <th>published</th>\n",
              "      <th>duration</th>\n",
              "      <th>category</th>\n",
              "    </tr>\n",
              "  </thead>\n",
              "  <tbody>\n",
              "    <tr>\n",
              "      <th>0</th>\n",
              "      <td>231</td>\n",
              "      <td>440238</td>\n",
              "      <td>6153</td>\n",
              "      <td>218</td>\n",
              "      <td>1377</td>\n",
              "      <td>2053</td>\n",
              "      <td>449</td>\n",
              "      <td>2</td>\n",
              "    </tr>\n",
              "    <tr>\n",
              "      <th>1</th>\n",
              "      <td>3444</td>\n",
              "      <td>1040132</td>\n",
              "      <td>8171</td>\n",
              "      <td>340</td>\n",
              "      <td>1047</td>\n",
              "      <td>1825</td>\n",
              "      <td>389</td>\n",
              "      <td>6</td>\n",
              "    </tr>\n",
              "    <tr>\n",
              "      <th>2</th>\n",
              "      <td>1593</td>\n",
              "      <td>28534</td>\n",
              "      <td>31</td>\n",
              "      <td>11</td>\n",
              "      <td>1</td>\n",
              "      <td>1009</td>\n",
              "      <td>2274</td>\n",
              "      <td>4</td>\n",
              "    </tr>\n",
              "    <tr>\n",
              "      <th>3</th>\n",
              "      <td>3775</td>\n",
              "      <td>1316715</td>\n",
              "      <td>2284</td>\n",
              "      <td>250</td>\n",
              "      <td>274</td>\n",
              "      <td>116</td>\n",
              "      <td>595</td>\n",
              "      <td>7</td>\n",
              "    </tr>\n",
              "    <tr>\n",
              "      <th>4</th>\n",
              "      <td>7644</td>\n",
              "      <td>1893173</td>\n",
              "      <td>2519</td>\n",
              "      <td>225</td>\n",
              "      <td>116</td>\n",
              "      <td>1892</td>\n",
              "      <td>188</td>\n",
              "      <td>2</td>\n",
              "    </tr>\n",
              "  </tbody>\n",
              "</table>\n",
              "</div>"
            ],
            "text/plain": [
              "   vidid    views  likes  dislikes  comment  published  duration  category\n",
              "0    231   440238   6153       218     1377       2053       449         2\n",
              "1   3444  1040132   8171       340     1047       1825       389         6\n",
              "2   1593    28534     31        11        1       1009      2274         4\n",
              "3   3775  1316715   2284       250      274        116       595         7\n",
              "4   7644  1893173   2519       225      116       1892       188         2"
            ]
          },
          "metadata": {
            "tags": []
          },
          "execution_count": 84
        }
      ]
    },
    {
      "cell_type": "code",
      "metadata": {
        "colab": {
          "base_uri": "https://localhost:8080/",
          "height": 264
        },
        "id": "IDXavJ1B8tD3",
        "outputId": "342cf20e-16c7-4c7d-a0da-86f719ddee4e"
      },
      "source": [
        "plt.hist(test_data[\"category\"])\n",
        "plt.show()"
      ],
      "execution_count": 85,
      "outputs": [
        {
          "output_type": "display_data",
          "data": {
            "image/png": "[encoded data removed]",
            "text/plain": [
              "<Figure size 432x288 with 1 Axes>"
            ]
          },
          "metadata": {
            "tags": [],
            "needs_background": "light"
          }
        }
      ]
    },
    {
      "cell_type": "code",
      "metadata": {
        "colab": {
          "base_uri": "https://localhost:8080/",
          "height": 486
        },
        "id": "NYkD3NJR9DR-",
        "outputId": "07057503-f148-4763-bd56-03a498dd0376"
      },
      "source": [
        "#Heatmap\n",
        "f, ax=plt.subplots(figsize=(10,8))\n",
        "corr=test_data.corr()\n",
        "sns.heatmap(corr,mask=np.zeros_like(corr, dtype=np.bool),cmap=sns.diverging_palette(220, 10, as_cmap=True), square=True, ax=ax,annot=True)\n",
        "plt.show()"
      ],
      "execution_count": 88,
      "outputs": [
        {
          "output_type": "display_data",
          "data": {
            "image/png": "[encoded data removed]",
            "text/plain": [
              "<Figure size 720x576 with 2 Axes>"
            ]
          },
          "metadata": {
            "tags": [],
            "needs_background": "light"
          }
        }
      ]
    },
    {
      "cell_type": "code",
      "metadata": {
        "colab": {
          "base_uri": "https://localhost:8080/",
          "height": 202
        },
        "id": "YjOG9iGc938X",
        "outputId": "b98b45ee-1626-4095-efd1-0044fb76e3be"
      },
      "source": [
        "test_data=test_data.drop([\"vidid\"],axis=1)\n",
        "test_data.head()"
      ],
      "execution_count": 89,
      "outputs": [
        {
          "output_type": "execute_result",
          "data": {
            "text/html": [
              "<div>\n",
              "<style scoped>\n",
              "    .dataframe tbody tr th:only-of-type {\n",
              "        vertical-align: middle;\n",
              "    }\n",
              "\n",
              "    .dataframe tbody tr th {\n",
              "        vertical-align: top;\n",
              "    }\n",
              "\n",
              "    .dataframe thead th {\n",
              "        text-align: right;\n",
              "    }\n",
              "</style>\n",
              "<table border=\"1\" class=\"dataframe\">\n",
              "  <thead>\n",
              "    <tr style=\"text-align: right;\">\n",
              "      <th></th>\n",
              "      <th>views</th>\n",
              "      <th>likes</th>\n",
              "      <th>dislikes</th>\n",
              "      <th>comment</th>\n",
              "      <th>published</th>\n",
              "      <th>duration</th>\n",
              "      <th>category</th>\n",
              "    </tr>\n",
              "  </thead>\n",
              "  <tbody>\n",
              "    <tr>\n",
              "      <th>0</th>\n",
              "      <td>440238</td>\n",
              "      <td>6153</td>\n",
              "      <td>218</td>\n",
              "      <td>1377</td>\n",
              "      <td>2053</td>\n",
              "      <td>449</td>\n",
              "      <td>2</td>\n",
              "    </tr>\n",
              "    <tr>\n",
              "      <th>1</th>\n",
              "      <td>1040132</td>\n",
              "      <td>8171</td>\n",
              "      <td>340</td>\n",
              "      <td>1047</td>\n",
              "      <td>1825</td>\n",
              "      <td>389</td>\n",
              "      <td>6</td>\n",
              "    </tr>\n",
              "    <tr>\n",
              "      <th>2</th>\n",
              "      <td>28534</td>\n",
              "      <td>31</td>\n",
              "      <td>11</td>\n",
              "      <td>1</td>\n",
              "      <td>1009</td>\n",
              "      <td>2274</td>\n",
              "      <td>4</td>\n",
              "    </tr>\n",
              "    <tr>\n",
              "      <th>3</th>\n",
              "      <td>1316715</td>\n",
              "      <td>2284</td>\n",
              "      <td>250</td>\n",
              "      <td>274</td>\n",
              "      <td>116</td>\n",
              "      <td>595</td>\n",
              "      <td>7</td>\n",
              "    </tr>\n",
              "    <tr>\n",
              "      <th>4</th>\n",
              "      <td>1893173</td>\n",
              "      <td>2519</td>\n",
              "      <td>225</td>\n",
              "      <td>116</td>\n",
              "      <td>1892</td>\n",
              "      <td>188</td>\n",
              "      <td>2</td>\n",
              "    </tr>\n",
              "  </tbody>\n",
              "</table>\n",
              "</div>"
            ],
            "text/plain": [
              "     views  likes  dislikes  comment  published  duration  category\n",
              "0   440238   6153       218     1377       2053       449         2\n",
              "1  1040132   8171       340     1047       1825       389         6\n",
              "2    28534     31        11        1       1009      2274         4\n",
              "3  1316715   2284       250      274        116       595         7\n",
              "4  1893173   2519       225      116       1892       188         2"
            ]
          },
          "metadata": {
            "tags": []
          },
          "execution_count": 89
        }
      ]
    },
    {
      "cell_type": "code",
      "metadata": {
        "colab": {
          "base_uri": "https://localhost:8080/"
        },
        "id": "3DmG6HUc-FEW",
        "outputId": "02ff0f62-9b30-414a-c877-09732395bec0"
      },
      "source": [
        "X_test=scaler.fit_transform(test_data)\n",
        "X_test"
      ],
      "execution_count": 91,
      "outputs": [
        {
          "output_type": "execute_result",
          "data": {
            "text/plain": [
              "array([[1.95520958e-03, 1.92237996e-02, 6.05168920e-03, ...,\n",
              "        9.75296912e-01, 1.07451417e-02, 1.42857143e-01],\n",
              "       [4.61965571e-03, 2.55286311e-02, 9.43841435e-03, ...,\n",
              "        8.66983373e-01, 9.29309552e-03, 7.14285714e-01],\n",
              "       [1.26614645e-04, 9.68532080e-05, 3.05360464e-04, ...,\n",
              "        4.79334917e-01, 5.49115462e-02, 4.28571429e-01],\n",
              "       ...,\n",
              "       [8.40188347e-03, 1.43905121e-02, 3.07858868e-02, ...,\n",
              "        8.66033254e-01, 1.03821302e-02, 7.14285714e-01],\n",
              "       [3.17494650e-03, 5.12072284e-03, 4.19176637e-03, ...,\n",
              "        8.20902613e-01, 4.59814622e-03, 4.28571429e-01],\n",
              "       [2.34068537e-05, 3.74915644e-05, 2.77600422e-05, ...,\n",
              "        9.48218527e-01, 1.47382687e-02, 4.28571429e-01]])"
            ]
          },
          "metadata": {
            "tags": []
          },
          "execution_count": 91
        }
      ]
    },
    {
      "cell_type": "code",
      "metadata": {
        "colab": {
          "base_uri": "https://localhost:8080/"
        },
        "id": "OxDwawic-nuH",
        "outputId": "1dc9877f-471d-4f8f-b20a-06b2940366fc"
      },
      "source": [
        "prediction=decision_tree.predict(X_test)\n",
        "prediction"
      ],
      "execution_count": 93,
      "outputs": [
        {
          "output_type": "execute_result",
          "data": {
            "text/plain": [
              "array([ 2., 14.,  1., ..., 12.,  2.,  8.])"
            ]
          },
          "metadata": {
            "tags": []
          },
          "execution_count": 93
        }
      ]
    },
    {
      "cell_type": "code",
      "metadata": {
        "colab": {
          "base_uri": "https://localhost:8080/",
          "height": 202
        },
        "id": "0kO9fRX9Ab5A",
        "outputId": "0ef5194c-f8d0-4ca3-d40e-a824d203d0ed"
      },
      "source": [
        "dict={'adview':prediction}\n",
        "dataframe=pd.DataFrame(dict)\n",
        "dataframe.head()"
      ],
      "execution_count": 95,
      "outputs": [
        {
          "output_type": "execute_result",
          "data": {
            "text/html": [
              "<div>\n",
              "<style scoped>\n",
              "    .dataframe tbody tr th:only-of-type {\n",
              "        vertical-align: middle;\n",
              "    }\n",
              "\n",
              "    .dataframe tbody tr th {\n",
              "        vertical-align: top;\n",
              "    }\n",
              "\n",
              "    .dataframe thead th {\n",
              "        text-align: right;\n",
              "    }\n",
              "</style>\n",
              "<table border=\"1\" class=\"dataframe\">\n",
              "  <thead>\n",
              "    <tr style=\"text-align: right;\">\n",
              "      <th></th>\n",
              "      <th>adview</th>\n",
              "    </tr>\n",
              "  </thead>\n",
              "  <tbody>\n",
              "    <tr>\n",
              "      <th>0</th>\n",
              "      <td>2.0</td>\n",
              "    </tr>\n",
              "    <tr>\n",
              "      <th>1</th>\n",
              "      <td>14.0</td>\n",
              "    </tr>\n",
              "    <tr>\n",
              "      <th>2</th>\n",
              "      <td>1.0</td>\n",
              "    </tr>\n",
              "    <tr>\n",
              "      <th>3</th>\n",
              "      <td>9.0</td>\n",
              "    </tr>\n",
              "    <tr>\n",
              "      <th>4</th>\n",
              "      <td>67985.0</td>\n",
              "    </tr>\n",
              "  </tbody>\n",
              "</table>\n",
              "</div>"
            ],
            "text/plain": [
              "    adview\n",
              "0      2.0\n",
              "1     14.0\n",
              "2      1.0\n",
              "3      9.0\n",
              "4  67985.0"
            ]
          },
          "metadata": {
            "tags": []
          },
          "execution_count": 95
        }
      ]
    },
    {
      "cell_type": "code",
      "metadata": {
        "colab": {
          "base_uri": "https://localhost:8080/",
          "height": 275
        },
        "id": "j3Hcqj3yBMVx",
        "outputId": "37292b2f-e57b-445a-d50f-e5fcc5d33239"
      },
      "source": [
        "plt.plot(dataframe[\"adview\"])\n",
        "plt.show()"
      ],
      "execution_count": 98,
      "outputs": [
        {
          "output_type": "display_data",
          "data": {
            "image/png": "[encoded data removed]",
            "text/plain": [
              "<Figure size 432x288 with 1 Axes>"
            ]
          },
          "metadata": {
            "tags": [],
            "needs_background": "light"
          }
        }
      ]
    },
    {
      "cell_type": "code",
      "metadata": {
        "id": "ya77i3QoA0mO"
      },
      "source": [
        "dataframe.to_csv('predictions.csv')"
      ],
      "execution_count": 97,
      "outputs": []
    }
  ]
}